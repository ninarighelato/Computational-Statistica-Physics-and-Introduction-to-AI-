{
 "cells": [
  {
   "cell_type": "code",
   "execution_count": null,
   "id": "b8ff9b84",
   "metadata": {},
   "outputs": [
    {
     "name": "stdout",
     "output_type": "stream",
     "text": [
      "[[    1     2     3 ...  9998  9999 10000]\n",
      " [    1     2     3 ...  9998  9999 10000]\n",
      " [    1     2     3 ...  9998  9999 10000]\n",
      " ...\n",
      " [    1     2     3 ...  9998  9999 10000]\n",
      " [    1     2     3 ...  9998  9999 10000]\n",
      " [    1     2     3 ...  9998  9999 10000]]\n",
      "[[   1.    0.   -3. ...  242. -191.   26.]\n",
      " [   1.    0.   -1. ... -140.   -9.  -34.]\n",
      " [   1.    0.   -1. ...    0.  -25.    0.]\n",
      " ...\n",
      " [  -1.    0.   -1. ...  -16. -127.  -18.]\n",
      " [   1.   -2.    1. ... -172. -167.   14.]\n",
      " [  -1.    2.    3. ...  182. -125.    0.]]\n"
     ]
    }
   ],
   "source": [
    "import numpy as np\n",
    "import matplotlib.pyplot as plt\n",
    "\n",
    "runs = 600\n",
    "\n",
    "Nmin= 1\n",
    "Nmax = 10000\n",
    "N = np.arange(Nmin,Nmax+1,1)\n",
    "N_exp = np.tile(N, (runs,1))\n",
    "print(N_exp)\n",
    "\n",
    "all_M_values = np.zeros((runs, len(N)))\n",
    "\n",
    "\n",
    "counter = 0\n",
    "\n",
    "for n in N:\n",
    "    M = np.zeros(runs)\n",
    "\n",
    "    j = 0\n",
    "\n",
    "    for _ in range(runs):\n",
    "       \n",
    "        sample = np.random.choice([-1,1], size = n, p = [0.5, 0.5]) \n",
    "  \n",
    "        M[j] = np.sum(sample) \n",
    "        j +=  1\n",
    "\n",
    "    all_M_values[:, counter] = M\n",
    "    counter += 1\n",
    "\n",
    "\n",
    "\n",
    "filename = f\"./data_example_1_600_runs_10000_particles\"\n",
    "\n",
    "print(all_M_values)\n",
    "\n",
    "np.savez(filename, N=N_exp, all_M_values = all_M_values) \n",
    "\n",
    "\n"
   ]
  }
 ],
 "metadata": {
  "kernelspec": {
   "display_name": "Python (Fiesta Compu)",
   "language": "python",
   "name": "fiesta-compu"
  },
  "language_info": {
   "codemirror_mode": {
    "name": "ipython",
    "version": 3
   },
   "file_extension": ".py",
   "mimetype": "text/x-python",
   "name": "python",
   "nbconvert_exporter": "python",
   "pygments_lexer": "ipython3",
   "version": "3.9.12"
  }
 },
 "nbformat": 4,
 "nbformat_minor": 5
}
