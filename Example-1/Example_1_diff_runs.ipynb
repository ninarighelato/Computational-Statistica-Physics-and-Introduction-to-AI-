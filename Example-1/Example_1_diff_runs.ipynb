{
 "cells": [
  {
   "cell_type": "code",
   "execution_count": null,
   "id": "b8ff9b84",
   "metadata": {},
   "outputs": [
    {
     "ename": "ValueError",
     "evalue": "maximum supported dimension for an ndarray is currently 64, found 100",
     "output_type": "error",
     "traceback": [
      "\u001b[1;31m---------------------------------------------------------------------------\u001b[0m",
      "\u001b[1;31mValueError\u001b[0m                                Traceback (most recent call last)",
      "Cell \u001b[1;32mIn[4], line 24\u001b[0m\n\u001b[0;32m     21\u001b[0m counter \u001b[38;5;241m=\u001b[39m \u001b[38;5;241m0\u001b[39m\n\u001b[0;32m     23\u001b[0m \u001b[38;5;28;01mfor\u001b[39;00m n \u001b[38;5;129;01min\u001b[39;00m N:\n\u001b[1;32m---> 24\u001b[0m     M \u001b[38;5;241m=\u001b[39m \u001b[43mnp\u001b[49m\u001b[38;5;241;43m.\u001b[39;49m\u001b[43mzeros\u001b[49m\u001b[43m(\u001b[49m\u001b[43mruns\u001b[49m\u001b[43m)\u001b[49m\n\u001b[0;32m     26\u001b[0m     j \u001b[38;5;241m=\u001b[39m \u001b[38;5;241m0\u001b[39m\n\u001b[0;32m     28\u001b[0m     \u001b[38;5;28;01mfor\u001b[39;00m _ \u001b[38;5;129;01min\u001b[39;00m \u001b[38;5;28mrange\u001b[39m(runs):\n",
      "\u001b[1;31mValueError\u001b[0m: maximum supported dimension for an ndarray is currently 64, found 100"
     ]
    }
   ],
   "source": [
    "import numpy as np\n",
    "import matplotlib.pyplot as plt\n",
    "\n",
    "runs = 100\n",
    "\n",
    "Nmin= 1\n",
    "Nmax = 100\n",
    "N = np.arange(Nmin,Nmax+1,1)\n",
    "N_exp = np.tile(N, (runs,1))\n",
    "print(N_exp)\n",
    "\n",
    "all_M_values = np.zeros((runs, len(N)))\n",
    "\n",
    "\n",
    "counter = 0\n",
    "\n",
    "for n in N:\n",
    "    M = np.zeros(runs)\n",
    "\n",
    "    j = 0\n",
    "\n",
    "    for _ in range(runs):\n",
    "       \n",
    "        sample = np.random.choice([-1,1], size = n, p = [0.5, 0.5]) \n",
    "  \n",
    "        M[j] = np.sum(sample) #this 1D array we will have to moove it to the column of all_M_vaues\n",
    "\n",
    "        # N_plus[j] += np.count_nonzero(sample == 1)\n",
    "        # N_min[j] += np.count_nonzero(sample == -1)\n",
    "\n",
    "        j +=  1\n",
    "\n",
    "    all_M_values[:, counter] = M\n",
    "    counter += 1\n",
    "\n",
    "\n",
    "\n",
    "filename = f\"./data_example_1\"\n",
    "\n",
    "print(all_M_values)\n",
    "\n",
    "np.savez(filename, N=N_exp, all_M_values = all_M_values) \n",
    "\n",
    "\n",
    "\n",
    "\n",
    "\n"
   ]
  }
 ],
 "metadata": {
  "kernelspec": {
   "display_name": "Python (Fiesta Compu)",
   "language": "python",
   "name": "fiesta-compu"
  },
  "language_info": {
   "codemirror_mode": {
    "name": "ipython",
    "version": 3
   },
   "file_extension": ".py",
   "mimetype": "text/x-python",
   "name": "python",
   "nbconvert_exporter": "python",
   "pygments_lexer": "ipython3",
   "version": "3.9.12"
  }
 },
 "nbformat": 4,
 "nbformat_minor": 5
}
